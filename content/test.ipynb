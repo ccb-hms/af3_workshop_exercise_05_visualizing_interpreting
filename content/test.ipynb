{
 "cells": [
  {
   "cell_type": "code",
   "execution_count": null,
   "id": "d1570a41",
   "metadata": {
    "vscode": {
     "languageId": "plaintext"
    }
   },
   "outputs": [],
   "source": [
    "import nglview as nv\n",
    "filepath = \"result/protein-dna-ion_pdb_7rce/protein-dna-ion_pdb_7rce_model.cif\"\n",
    "res_7rce = nv.show_file(filepath, ext='cif')\n",
    "res_7rce"
   ]
  }
 ],
 "metadata": {
  "language_info": {
   "name": "python"
  }
 },
 "nbformat": 4,
 "nbformat_minor": 5
}
